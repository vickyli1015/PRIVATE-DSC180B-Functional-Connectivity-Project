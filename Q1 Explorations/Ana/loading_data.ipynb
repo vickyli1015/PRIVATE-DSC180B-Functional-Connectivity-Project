{
 "cells": [
  {
   "cell_type": "code",
   "execution_count": 1,
   "metadata": {},
   "outputs": [],
   "source": [
    "from nilearn import plotting, image\n",
    "import nibabel as nib\n",
    "import os\n",
    "import numpy as np\n",
    "from pathlib import Path\n",
    "import tarfile\n",
    "import altair as alt\n",
    "import pandas as pd\n",
    "import matplotlib.pyplot as plt"
   ]
  },
  {
   "cell_type": "code",
   "execution_count": 2,
   "metadata": {},
   "outputs": [],
   "source": [
    "#loading the data\n",
    "sub_list = os.listdir(\"HCP_PTN1200/node_timeseries/3T_HCP1200_MSMAll_d100_ts2\")\n",
    "make_path = lambda x: \"HCP_PTN1200/node_timeseries/3T_HCP1200_MSMAll_d100_ts2\" + \"/\" + x\n",
    "\n",
    "paths = [make_path(i) for i in sub_list]\n",
    "sub_data = [np.loadtxt(path) for path in paths]"
   ]
  },
  {
   "cell_type": "code",
   "execution_count": null,
   "metadata": {},
   "outputs": [],
   "source": []
  }
 ],
 "metadata": {
  "kernelspec": {
   "display_name": "capstone",
   "language": "python",
   "name": "python3"
  },
  "language_info": {
   "codemirror_mode": {
    "name": "ipython",
    "version": 3
   },
   "file_extension": ".py",
   "mimetype": "text/x-python",
   "name": "python",
   "nbconvert_exporter": "python",
   "pygments_lexer": "ipython3",
   "version": "3.12.7"
  }
 },
 "nbformat": 4,
 "nbformat_minor": 2
}
