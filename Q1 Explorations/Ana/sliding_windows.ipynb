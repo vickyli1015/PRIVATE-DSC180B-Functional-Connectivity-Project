{
 "cells": [
  {
   "cell_type": "code",
   "execution_count": 1,
   "metadata": {},
   "outputs": [],
   "source": [
    "#all imports here\n",
    "\n",
    "from nilearn import plotting, image\n",
    "import nibabel as nib\n",
    "import os\n",
    "import numpy as np\n",
    "from pathlib import Path\n",
    "import tarfile\n",
    "import altair as alt\n",
    "import pandas as pd\n",
    "import matplotlib.pyplot as plt"
   ]
  },
  {
   "cell_type": "code",
   "execution_count": null,
   "metadata": {},
   "outputs": [],
   "source": [
    "def sliding_windows(data, num_windows, create_figure=False):\n",
    "    '''\n",
    "    data: is the data that we want to be split into whindows, one subject data\n",
    "    num_windows: is the number of windows we want to split the data into\n",
    "    create_figure: if True, it will create a figure with the windows, if False, it will not create a figure\n",
    "    '''\n",
    "    len_window = 4800//num_windows\n",
    "    window_matrices = []\n",
    "    if create_figure:\n",
    "        fig, axs = plt.subplots(num_windows//4, 4, figsize=(15, 10))\n",
    "    for i in range(num_windows):\n",
    "        row = i//4\n",
    "        col = i % 4\n",
    "        i = int(i*len_window//2)\n",
    "        lil_data = data[i: i + len_window]\n",
    "        sub_corr_matrix = np.corrcoef(lil_data.T)\n",
    "        window_matrices.append(sub_corr_matrix) \n",
    "        if create_figure:\n",
    "            img = axs[row][col].imshow(sub_corr_matrix, cmap=\"RdBu_r\",vmin=-1, vmax=1, interpolation=\"none\")\n",
    "        # axs[row][col].title(f\"corr graph in window {i} to {i+len_5_min}\")\n",
    "        #plt.show()\n",
    "    if create_figure:\n",
    "        fig.colorbar(img, ax=axs, orientation='vertical', fraction=0.02, pad=0.04, shrink = 0.4)\n",
    "    return window_matrices"
   ]
  },
  {
   "cell_type": "code",
   "execution_count": null,
   "metadata": {},
   "outputs": [],
   "source": [
    "#lets check the 99.9 percentile\n",
    "def percentile(cov_matrix, percentile=99.9):\n",
    "    ''' \n",
    "    find percentile\n",
    "\n",
    "    Takes in:\n",
    "    cov_matrix\n",
    "    percentile = 99.9\n",
    "    '''\n",
    "    cov_matrix = np.array(cov_matrix)\n",
    "    iu = np.triu_indices(100, 1) #get the upper triangle and and offset it to not include the diagonal\n",
    "    unique_cov = abs(cov_matrix[iu])\n",
    "    threshold = np.percentile(unique_cov, percentile) #threshold for 99.9 percentile\n",
    "    indices = np.where((cov_matrix >= threshold) & (cov_matrix <0.999))\n",
    "    pairs = np.dstack(indices)\n",
    "    unique_pairs = np.array(list({tuple(np.sort(row)) for row in pairs[0]}))\n",
    "    strong_correlations = {(x, y):cov_matrix[x, y] for x, y in unique_pairs}\n",
    "    return strong_correlations"
   ]
  },
  {
   "cell_type": "code",
   "execution_count": null,
   "metadata": {},
   "outputs": [],
   "source": [
    "def get_data_over_time(matrices, x, y):\n",
    "    data = np.array(matrices)[:, x, y]\n",
    "    data = pd.DataFrame({\n",
    "        'x': range(1, len(data) + 1),  # Generate x-axis values (e.g., 1, 2, 3, ...)\n",
    "        'y': data,\n",
    "        'group':[f'({x},{y})']*len(data) # Use the list for y-axis values\n",
    "    })\n",
    "    return data\n",
    "    \n",
    "def plot_correlations_over_time(data):\n",
    "    chart = alt.Chart(data).mark_point().encode(\n",
    "    x=alt.X('x', title='Time Window'),\n",
    "    y=alt.Y('y', title = 'Correlation'),\n",
    "    color='group',\n",
    "    tooltip=['x', 'y'],\n",
    "    ).properties(title='Correlation over 12 windows', )\n",
    "    return chart"
   ]
  },
  {
   "cell_type": "code",
   "execution_count": null,
   "metadata": {},
   "outputs": [],
   "source": [
    "atlas = image.load_img(\"HCP_PTN1200/groupICA/groupICA_3T_HCP1200_MSMAll_d100.ica/melodic_IC_sum.nii.gz\")\n",
    "atlas = image.threshold_img(atlas, \"99.5%\") \n",
    "\n",
    "atlas_coords = plotting.find_probabilistic_atlas_cut_coords(atlas)"
   ]
  },
  {
   "cell_type": "code",
   "execution_count": null,
   "metadata": {},
   "outputs": [],
   "source": [
    "def distance_between_coords(id1, id2):\n",
    "    return np.sqrt(np.sum([(atlas_coords[id2][i] - atlas_coords[id1][i])**2 for i in range(3)]))"
   ]
  },
  {
   "cell_type": "code",
   "execution_count": null,
   "metadata": {},
   "outputs": [],
   "source": [
    "# num_windows = 12\n",
    "# data = X\n",
    "# windows12 = sliding_windows(data, num_windows, True)"
   ]
  }
 ],
 "metadata": {
  "kernelspec": {
   "display_name": "capstone",
   "language": "python",
   "name": "python3"
  },
  "language_info": {
   "codemirror_mode": {
    "name": "ipython",
    "version": 3
   },
   "file_extension": ".py",
   "mimetype": "text/x-python",
   "name": "python",
   "nbconvert_exporter": "python",
   "pygments_lexer": "ipython3",
   "version": "3.12.7"
  }
 },
 "nbformat": 4,
 "nbformat_minor": 2
}
